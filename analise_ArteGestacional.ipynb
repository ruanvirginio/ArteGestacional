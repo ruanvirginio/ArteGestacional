{
 "cells": [
  {
   "cell_type": "code",
   "execution_count": 21,
   "metadata": {},
   "outputs": [],
   "source": [
    "import pandas as pd\n",
    "\n",
    "# Carregar os dados da planilha Excel\n",
    "df = pd.read_excel('Questionário Artes Gestacional (respostas).xlsx')\n",
    "\n",
    "df.to_csv('base.csv', sep=\";\")"
   ]
  },
  {
   "cell_type": "code",
   "execution_count": 22,
   "metadata": {},
   "outputs": [],
   "source": [
    "def contar_resposta_unica(coluna, df):\n",
    "    contagem = df[coluna].value_counts()\n",
    "    porcentagens = (contagem / contagem.sum()) * 100\n",
    "    porcentagens = porcentagens.round(2)\n",
    "    df_resultado = pd.DataFrame({coluna: contagem.index, 'Contagem': contagem.values, 'Porcentagem': porcentagens.values})\n",
    "    print(df_resultado)\n",
    "    print(\"\\n\")\n",
    "    return df_resultado\n",
    "\n",
    "def contar_multiplas_respostas(coluna, df):\n",
    "    # Separar as respostas em colunas diferentes\n",
    "    respostas_sep = df[coluna].str.split(', ', expand=True)\n",
    "    \n",
    "    # Contar as ocorrências de cada comportamento em todas as respostas\n",
    "    ocorrencias = respostas_sep.apply(pd.Series.value_counts).fillna(0)\n",
    "    \n",
    "    # Converter os dados para inteiros\n",
    "    ocorrencias = ocorrencias.astype(int)\n",
    "    \n",
    "    # Somar as contagens de cada comportamento em todas as colunas\n",
    "    ocorrencias_total = ocorrencias.sum(axis=1)\n",
    "    \n",
    "    # Calcular as porcentagens\n",
    "    total_respostas = len(df)\n",
    "    porcentagens_total = (ocorrencias_total / total_respostas) * 100\n",
    "    porcentagens_total = porcentagens_total.round(2)\n",
    "    \n",
    "    # Criar DataFrame com contagem e porcentagem\n",
    "    resultado_df = pd.DataFrame({coluna: ocorrencias_total.index, 'Contagem': ocorrencias_total.values, 'Porcentagem': porcentagens_total.values})\n",
    "    print(resultado_df)\n",
    "    print(\"\\n\")\n",
    "    return resultado_df\n"
   ]
  },
  {
   "cell_type": "code",
   "execution_count": 23,
   "metadata": {},
   "outputs": [],
   "source": [
    "# Função para classificar a idade gestacional em trimestres\n",
    "def classificar_trimestre(idade):\n",
    "    try:\n",
    "        semanas = int(idade.split('s')[0])\n",
    "        if semanas >= 1 and semanas <= 13:\n",
    "            return 'Primeiro Trimestre'\n",
    "        elif semanas >= 14 and semanas <= 26:\n",
    "            return 'Segundo Trimestre'\n",
    "        elif semanas >= 27 and semanas <= 41:\n",
    "            return 'Terceiro Trimestre'\n",
    "        else:\n",
    "            return 'Outro'\n",
    "    except:\n",
    "        return 'Outro'\n",
    "\n",
    "# Função para contar as ocorrências de cada trimestre e calcular as porcentagens\n",
    "def contar_resposta_unica_trimestre(df):\n",
    "    df['Trimestre'] = df.iloc[:, 9].apply(classificar_trimestre)\n",
    "    contagem_trimestre = df['Trimestre'].value_counts()\n",
    "    porcentagens_trimestre = (contagem_trimestre / contagem_trimestre.sum()) * 100\n",
    "    porcentagens_trimestre = porcentagens_trimestre.round(2)\n",
    "    trimestre_df = pd.DataFrame({'Trimestre': contagem_trimestre.index, 'Contagem': contagem_trimestre.values, 'Porcentagem': porcentagens_trimestre.values})\n",
    "    print(trimestre_df)\n",
    "    print(\"\\n\")\n",
    "    return trimestre_df"
   ]
  },
  {
   "cell_type": "markdown",
   "metadata": {},
   "source": [
    "### Análise de Idade"
   ]
  },
  {
   "cell_type": "code",
   "execution_count": 24,
   "metadata": {},
   "outputs": [
    {
     "name": "stdout",
     "output_type": "stream",
     "text": [
      "Média da Idade: 26.85\n",
      "Mediana da Idade: 27.0\n",
      "Desvio Padrão da Idade: 5.31\n",
      "Máximo da Idade: 39\n",
      "Mínimo da Idade: 15\n",
      "Idade maior ou igual a mediana: 21\n",
      "Idade menor que mediana: 18\n"
     ]
    }
   ],
   "source": [
    "# Calculando os parâmetros de idade\n",
    "\n",
    "# Calcular a média da coluna \"Idade\"\n",
    "media_idade = df['Idade (anos)'].mean().round(2)\n",
    "\n",
    "# Calcular a mediana da coluna \"Idade\"\n",
    "mediana_idade = df['Idade (anos)'].median()\n",
    "\n",
    "# Calcular o desvio padrão da coluna \"Idade\"\n",
    "desvio_padrao_idade = df['Idade (anos)'].std().round(2)\n",
    "\n",
    "# Calcular o máximo da coluna \"Idade\"\n",
    "maximo_idade = df['Idade (anos)'].max()\n",
    "\n",
    "# Calcular o mínimo da coluna \"Idade\"\n",
    "minimo_idade = df['Idade (anos)'].min()\n",
    "\n",
    "# Apresentar os resultados\n",
    "print(\"Média da Idade:\", media_idade)\n",
    "print(\"Mediana da Idade:\", mediana_idade)\n",
    "print(\"Desvio Padrão da Idade:\", desvio_padrao_idade)\n",
    "print(\"Máximo da Idade:\", maximo_idade)\n",
    "print(\"Mínimo da Idade:\", minimo_idade)\n",
    "\n",
    "# Contagem de consultas pré-natal maior que 6\n",
    "maior_igual_que_mediana = (df['Idade (anos)'] >= mediana_idade).sum()\n",
    "\n",
    "# Contagem de consultas pré-natal menor ou igual a 6\n",
    "menor_que_mediana = (df['Idade (anos)'] < mediana_idade).sum()\n",
    "\n",
    "print(\"Idade maior ou igual a mediana:\", maior_igual_que_mediana)\n",
    "print(\"Idade menor que mediana:\", menor_que_mediana)"
   ]
  },
  {
   "cell_type": "markdown",
   "metadata": {},
   "source": [
    "### Análise de Dados 1"
   ]
  },
  {
   "cell_type": "code",
   "execution_count": 25,
   "metadata": {},
   "outputs": [
    {
     "name": "stdout",
     "output_type": "stream",
     "text": [
      "                                        Estado civil  Contagem  Porcentagem\n",
      "0  Convive com companheiro (casada, união estável..)        31        79.49\n",
      "1               Sem companheiro (solteira, separada)         8        20.51\n",
      "\n",
      "\n",
      "  Se tiver companheiro, ele faz o pré-natal do parceiro?  Contagem  \\\n",
      "0                                                Não            22   \n",
      "1                                                Sim            15   \n",
      "\n",
      "   Porcentagem  \n",
      "0        59.46  \n",
      "1        40.54  \n",
      "\n",
      "\n",
      "     Local onde a pintura foi realizada:  Contagem  Porcentagem\n",
      "0            Unidade de Saúde Tito Silva        20        51.28\n",
      "1                                   UFPB         9        23.08\n",
      "2                                Em casa         7        17.95\n",
      "3  Unidade de Saúde Mangabeira Integrada         3         7.69\n",
      "\n",
      "\n",
      "  Sexo do bebê da arte  Contagem  Porcentagem\n",
      "0               Menino        23        58.97\n",
      "1               Menina        15        38.46\n",
      "2             Não sabe         1         2.56\n",
      "\n",
      "\n"
     ]
    }
   ],
   "source": [
    "import pandas as pd\n",
    "\n",
    "estado_civil_df = contar_resposta_unica('Estado civil', df)\n",
    "\n",
    "prenatal_parceiro_df = contar_resposta_unica('Se tiver companheiro, ele faz o pré-natal do parceiro?', df)\n",
    "\n",
    "local_pintura_df = contar_resposta_unica('Local onde a pintura foi realizada:', df)\n",
    "\n",
    "sexo_bebe_df = contar_resposta_unica('Sexo do bebê da arte', df)"
   ]
  },
  {
   "cell_type": "code",
   "execution_count": 26,
   "metadata": {},
   "outputs": [
    {
     "name": "stdout",
     "output_type": "stream",
     "text": [
      "            Trimestre  Contagem  Porcentagem\n",
      "0  Terceiro Trimestre        35        89.74\n",
      "1   Segundo Trimestre         4        10.26\n",
      "\n",
      "\n",
      "  Classificação do Risco da gestação  Contagem  Porcentagem\n",
      "0                     Risco habitual        32        82.05\n",
      "1                         Alto risco         7        17.95\n",
      "\n",
      "\n",
      "    Número de consultas pré-natal:  Contagem  Porcentagem\n",
      "0                                4         7        17.95\n",
      "1                                7         5        12.82\n",
      "2                               10         5        12.82\n",
      "3                                6         4        10.26\n",
      "4                                9         4        10.26\n",
      "5                                8         3         7.69\n",
      "6                                5         3         7.69\n",
      "7                                3         3         7.69\n",
      "8                               11         2         5.13\n",
      "9                               12         1         2.56\n",
      "10                              23         1         2.56\n",
      "11                              15         1         2.56\n",
      "\n",
      "\n"
     ]
    }
   ],
   "source": [
    "trimestre_df = contar_resposta_unica_trimestre(df)\n",
    "\n",
    "risco = contar_resposta_unica('Classificação do Risco da gestação', df)\n",
    "\n",
    "consultas_prenatal = contar_resposta_unica('Número de consultas pré-natal:', df)"
   ]
  },
  {
   "cell_type": "code",
   "execution_count": 27,
   "metadata": {},
   "outputs": [
    {
     "name": "stdout",
     "output_type": "stream",
     "text": [
      "Média Consultas pré-natal maior que 6: 7.51\n",
      "Consultas pré-natal maior ou igual a 6: 26\n",
      "Consultas pré-natal menor que 6: 13\n"
     ]
    }
   ],
   "source": [
    "media_consultas = round(df['Número de consultas pré-natal:'].mean(),2)\n",
    "\n",
    "# Contagem de consultas pré-natal maior que 6\n",
    "maior__igual_que_6 = (df['Número de consultas pré-natal:'] >= 6).sum()\n",
    "\n",
    "# Contagem de consultas pré-natal menor ou igual a 6\n",
    "menor_que_6 = (df['Número de consultas pré-natal:'] < 6).sum()\n",
    "\n",
    "print(\"Média Consultas pré-natal maior que 6:\", media_consultas)\n",
    "print(\"Consultas pré-natal maior ou igual a 6:\", maior__igual_que_6)\n",
    "print(\"Consultas pré-natal menor que 6:\", menor_que_6)"
   ]
  },
  {
   "cell_type": "code",
   "execution_count": 28,
   "metadata": {},
   "outputs": [
    {
     "name": "stdout",
     "output_type": "stream",
     "text": [
      "  Gestação planejada?  Contagem  Porcentagem\n",
      "0                 Não        30        76.92\n",
      "1                 Sim         9        23.08\n",
      "\n",
      "\n",
      "  Gestação desejada?  Contagem  Porcentagem\n",
      "0                Sim        37        94.87\n",
      "1                Não         2         5.13\n",
      "\n",
      "\n"
     ]
    }
   ],
   "source": [
    "gest_planejada = contar_resposta_unica('Gestação planejada?', df)\n",
    "\n",
    "gest_desejada = contar_resposta_unica('Gestação desejada?', df)"
   ]
  },
  {
   "cell_type": "code",
   "execution_count": 29,
   "metadata": {},
   "outputs": [
    {
     "name": "stdout",
     "output_type": "stream",
     "text": [
      "   Paridade_ número de gestações (GESTA)  Contagem  Porcentagem\n",
      "0                                      1        21        53.85\n",
      "1                                      2        12        30.77\n",
      "2                                      3         3         7.69\n",
      "3                                      4         2         5.13\n",
      "4                                      7         1         2.56\n",
      "\n",
      "\n",
      "   Paridade_ número de PARTOS   Contagem  Porcentagem\n",
      "0                            0        18        46.15\n",
      "1                            1        12        30.77\n",
      "2                            2         6        15.38\n",
      "3                            3         2         5.13\n",
      "4                            4         1         2.56\n",
      "\n",
      "\n",
      "   Número de abortos (abortamentos)  Contagem  Porcentagem\n",
      "0                                 0        33        84.62\n",
      "1                                 1         5        12.82\n",
      "2                                 2         1         2.56\n",
      "\n",
      "\n"
     ]
    }
   ],
   "source": [
    "num_gest = contar_resposta_unica('Paridade_ número de gestações (GESTA)', df)\n",
    "\n",
    "num_partos = contar_resposta_unica('Paridade_ número de PARTOS ', df)\n",
    "\n",
    "num_abortos = contar_resposta_unica('Número de abortos (abortamentos)', df)\n"
   ]
  },
  {
   "cell_type": "code",
   "execution_count": 30,
   "metadata": {},
   "outputs": [
    {
     "name": "stdout",
     "output_type": "stream",
     "text": [
      "  Você sabe o que é Arte Gestacional?  Contagem  Porcentagem\n",
      "0                                 Sim        28        71.79\n",
      "1                                 Não        11        28.21\n",
      "\n",
      "\n",
      "  Como conheceu a Arte Gestacional?  Contagem  Porcentagem\n",
      "0         Projeto Aconchego Materno        17        43.59\n",
      "1                          Internet        12        30.77\n",
      "2                             Doula         4        10.26\n",
      "3                            Amigos         2         5.13\n",
      "4               Grupo das Gestantes         1         2.56\n",
      "5                   Evento de Saúde         1         2.56\n",
      "6                         Faculdade         1         2.56\n",
      "7                      Não conhecia         1         2.56\n",
      "\n",
      "\n"
     ]
    }
   ],
   "source": [
    "sabe_oque_e = contar_resposta_unica('Você sabe o que é Arte Gestacional?', df)\n",
    "\n",
    "conheceu_como = contar_resposta_unica('Como conheceu a Arte Gestacional?', df)"
   ]
  },
  {
   "cell_type": "code",
   "execution_count": 31,
   "metadata": {},
   "outputs": [
    {
     "name": "stdout",
     "output_type": "stream",
     "text": [
      "  Está com acompanhante durante a arte gestacional?  Contagem  Porcentagem\n",
      "0                                               Não        17        43.59\n",
      "1                           Sim, não informado quem        11        28.21\n",
      "2                                     Sim, parceiro         5        12.82\n",
      "3                                          Sim, mãe         1         2.56\n",
      "4                                     Sim, filho(a)         1         2.56\n",
      "5                Gostaria que o filho tivesse vindo         1         2.56\n",
      "6                                  Sim, mãe e irmão         1         2.56\n",
      "7                                          Filho(a)         1         2.56\n",
      "8                                      Sim, família         1         2.56\n",
      "\n",
      "\n",
      "  Já fez a arte gestacional anteriormente?  Contagem  Porcentagem\n",
      "0                                      Não        38        97.44\n",
      "1                                      Sim         1         2.56\n",
      "\n",
      "\n",
      "  Fez plano de parto?  Contagem  Porcentagem\n",
      "0                 Sim        22        56.41\n",
      "1                 Não        17        43.59\n",
      "\n",
      "\n"
     ]
    }
   ],
   "source": [
    "acompanhante = contar_resposta_unica('Está com acompanhante durante a arte gestacional?', df)\n",
    "\n",
    "arte_anteriormente = contar_resposta_unica('Já fez a arte gestacional anteriormente?', df)\n",
    "\n",
    "plano_parto = contar_resposta_unica('Fez plano de parto?', df)"
   ]
  },
  {
   "cell_type": "code",
   "execution_count": 32,
   "metadata": {},
   "outputs": [
    {
     "name": "stdout",
     "output_type": "stream",
     "text": [
      "  Participou de atividades educativas?  Contagem  Porcentagem\n",
      "0                                  Sim        22        56.41\n",
      "1                                  Não        17        43.59\n",
      "\n",
      "\n",
      "  Realizou visita a maternidade?  Contagem  Porcentagem\n",
      "0                            Não        21        53.85\n",
      "1                            Sim        18        46.15\n",
      "\n",
      "\n"
     ]
    }
   ],
   "source": [
    "atividades_educativas = contar_resposta_unica('Participou de atividades educativas?', df)\n",
    "\n",
    "visita_maternidade = contar_resposta_unica('Realizou visita a maternidade?', df)"
   ]
  },
  {
   "cell_type": "code",
   "execution_count": 33,
   "metadata": {},
   "outputs": [
    {
     "name": "stdout",
     "output_type": "stream",
     "text": [
      "  Qual emoção desencadeada durante a pintura?  Contagem  Porcentagem\n",
      "0                                     Alegria        38        97.44\n",
      "1                                        Amor         1         2.56\n",
      "2                                   Ansiedade         1         2.56\n",
      "3                                     Cuidado         1         2.56\n",
      "4                                  Felicidade         2         5.13\n",
      "5                Preocupada com a outra filha         1         2.56\n",
      "6                                  Satisfação         1         2.56\n",
      "7                                    Surpresa        11        28.21\n",
      "8                               Tranquilidade         1         2.56\n",
      "\n",
      "\n",
      "  Qual emoção desencadeada após a pintura?  Contagem  Porcentagem\n",
      "0                                  Alegria        36        92.31\n",
      "1                                     Amor         2         5.13\n",
      "2                                 Gratidão         2         5.13\n",
      "3                                 Perfeito         1         2.56\n",
      "4                               Realização         2         5.13\n",
      "5                                 Surpresa        10        25.64\n",
      "\n",
      "\n"
     ]
    }
   ],
   "source": [
    "emocao_durante = contar_multiplas_respostas('Qual emoção desencadeada durante a pintura?', df)\n",
    "\n",
    "emocao_apos = contar_multiplas_respostas('Qual emoção desencadeada após a pintura?', df)\n"
   ]
  },
  {
   "cell_type": "code",
   "execution_count": 34,
   "metadata": {},
   "outputs": [
    {
     "name": "stdout",
     "output_type": "stream",
     "text": [
      "  A arte te ajudou a ter consciência fetal (posição, parto)?  Contagem  \\\n",
      "0                                                Sim                37   \n",
      "1                                                Não                 2   \n",
      "\n",
      "   Porcentagem  \n",
      "0        94.87  \n",
      "1         5.13  \n",
      "\n",
      "\n",
      "  A arte te despertou curiosidade para buscar mais informações sobre o parto?  \\\n",
      "0                                                Sim                            \n",
      "1                                                Não                            \n",
      "\n",
      "   Contagem  Porcentagem  \n",
      "0        30        76.92  \n",
      "1         9        23.08  \n",
      "\n",
      "\n",
      "  Você se sentiu mais próxima do seu bebê com a arte?  Contagem  Porcentagem\n",
      "0                                                Sim         39        100.0\n",
      "\n",
      "\n"
     ]
    }
   ],
   "source": [
    "consciencia_fetal = contar_resposta_unica('A arte te ajudou a ter consciência fetal (posição, parto)?', df)\n",
    "\n",
    "curiosidade_info = contar_resposta_unica('A arte te despertou curiosidade para buscar mais informações sobre o parto?', df)\n",
    "\n",
    "proxima_do_bebe = contar_resposta_unica('Você se sentiu mais próxima do seu bebê com a arte?', df)"
   ]
  },
  {
   "cell_type": "code",
   "execution_count": 35,
   "metadata": {},
   "outputs": [
    {
     "name": "stdout",
     "output_type": "stream",
     "text": [
      "   Comportamentos maternos gerados pela arte gestacional:  Contagem  \\\n",
      "0            Busca por informações e proteção do bebê            13   \n",
      "1                   Busca por interação com a família            15   \n",
      "2                    Busca por proximidade com o bebê            22   \n",
      "3   Buscar conhecer sobre o bebê e seu estado intr...            14   \n",
      "4           Consciência em relação as posições fetais            22   \n",
      "5                                     Imaginar o bebê            34   \n",
      "6                                              Prazer            24   \n",
      "7                    Proximidade e conexão com o bebê            29   \n",
      "8                                         Relaxamento            26   \n",
      "9                    Sentir-se confiante para o parto            21   \n",
      "10                                    Sentir-se feliz            32   \n",
      "11            Sentir-se triste com a perda da pintura            12   \n",
      "12                     Valorização pessoa da gestante            30   \n",
      "\n",
      "    Porcentagem  \n",
      "0         33.33  \n",
      "1         38.46  \n",
      "2         56.41  \n",
      "3         35.90  \n",
      "4         56.41  \n",
      "5         87.18  \n",
      "6         61.54  \n",
      "7         74.36  \n",
      "8         66.67  \n",
      "9         53.85  \n",
      "10        82.05  \n",
      "11        30.77  \n",
      "12        76.92  \n",
      "\n",
      "\n"
     ]
    }
   ],
   "source": [
    "comportamentos_maternos = contar_multiplas_respostas('Comportamentos maternos gerados pela arte gestacional:', df)"
   ]
  },
  {
   "cell_type": "code",
   "execution_count": 36,
   "metadata": {},
   "outputs": [
    {
     "name": "stdout",
     "output_type": "stream",
     "text": [
      "  Você se sentiu mais próxima do seu bebê com a arte?  Contagem  Porcentagem\n",
      "0                                                Sim         39        100.0\n",
      "\n",
      "\n"
     ]
    }
   ],
   "source": [
    "proxima_do_bebe = contar_resposta_unica('Você se sentiu mais próxima do seu bebê com a arte?', df)"
   ]
  },
  {
   "cell_type": "code",
   "execution_count": 37,
   "metadata": {},
   "outputs": [
    {
     "name": "stdout",
     "output_type": "stream",
     "text": [
      "  Cores escolhidas para a arte gestacional  Contagem  Porcentagem\n",
      "0                                  Amarelo         9        23.08\n",
      "1                         Azul e seus tons        13        33.33\n",
      "2                                   Branco        10        25.64\n",
      "3                                  Laranja         6        15.38\n",
      "4                                   Marron         1         2.56\n",
      "5                         Rosa e seus tons        10        25.64\n",
      "6               Roxo (violeta) e seus tons         6        15.38\n",
      "7                        Verde e seus tons        13        33.33\n",
      "8                     Vermelho e seus tons         5        12.82\n",
      "\n",
      "\n",
      "  Durante a pintura houve oferta de:  Contagem  Porcentagem\n",
      "0                       Aromaterapia         8        20.51\n",
      "1                        Escalda pés        13        33.33\n",
      "2  Música de preferência da gestante        33        84.62\n",
      "3     Ritual de despedida da barriga         9        23.08\n",
      "\n",
      "\n"
     ]
    }
   ],
   "source": [
    "cores = contar_multiplas_respostas('Cores escolhidas para a arte gestacional', df)\n",
    "\n",
    "oferta = contar_multiplas_respostas('Durante a pintura houve oferta de:', df)"
   ]
  },
  {
   "cell_type": "code",
   "execution_count": 38,
   "metadata": {},
   "outputs": [
    {
     "name": "stdout",
     "output_type": "stream",
     "text": [
      "  Realizaria a arte gestacional novamente?  Contagem  Porcentagem\n",
      "0                                      Sim        37        94.87\n",
      "1                                      Não         2         5.13\n",
      "\n",
      "\n",
      "  Indicaria a arte gestacional para conhecidas?  Contagem  Porcentagem\n",
      "0                                           Sim        39        100.0\n",
      "\n",
      "\n"
     ]
    }
   ],
   "source": [
    "repetir_arte = contar_resposta_unica('Realizaria a arte gestacional novamente?', df)\n",
    "\n",
    "indicaria_arte = contar_resposta_unica('Indicaria a arte gestacional para conhecidas?', df)"
   ]
  },
  {
   "cell_type": "code",
   "execution_count": 39,
   "metadata": {},
   "outputs": [
    {
     "name": "stdout",
     "output_type": "stream",
     "text": [
      "   Represente em uma palavra como se sentiu com a pintura:  Contagem  \\\n",
      "0                                               Feliz             15   \n",
      "1                                             Ansiosa              2   \n",
      "2                                             Cuidado              2   \n",
      "3                                          Emocionada              2   \n",
      "4                                          Felicidade              2   \n",
      "5                                           Confiança              1   \n",
      "6                                        Entusiasmada              1   \n",
      "7                                           Tranquila              1   \n",
      "8                                           Realizada              1   \n",
      "9                                        Significante              1   \n",
      "10                                              Amada              1   \n",
      "11                                        Maravilhosa              1   \n",
      "12                                             Pronta              1   \n",
      "13                                           Perfeito              1   \n",
      "14                                            Alegria              1   \n",
      "15                                               Amor              1   \n",
      "16                                           Gratidão              1   \n",
      "17                                            Carinho              1   \n",
      "18                                           Radiante              1   \n",
      "19                                                Bem              1   \n",
      "20                                           Acolhida              1   \n",
      "\n",
      "    Porcentagem  \n",
      "0         38.46  \n",
      "1          5.13  \n",
      "2          5.13  \n",
      "3          5.13  \n",
      "4          5.13  \n",
      "5          2.56  \n",
      "6          2.56  \n",
      "7          2.56  \n",
      "8          2.56  \n",
      "9          2.56  \n",
      "10         2.56  \n",
      "11         2.56  \n",
      "12         2.56  \n",
      "13         2.56  \n",
      "14         2.56  \n",
      "15         2.56  \n",
      "16         2.56  \n",
      "17         2.56  \n",
      "18         2.56  \n",
      "19         2.56  \n",
      "20         2.56  \n",
      "\n",
      "\n"
     ]
    }
   ],
   "source": [
    "uma_palavra = contar_multiplas_respostas('Represente em uma palavra como se sentiu com a pintura:', df)\n",
    "\n",
    "uma_palavra.to_excel('uma_palavra.xlsx')\n"
   ]
  },
  {
   "cell_type": "code",
   "execution_count": 40,
   "metadata": {},
   "outputs": [
    {
     "name": "stdout",
     "output_type": "stream",
     "text": [
      "   Descreva a ilustração presente na arte gestacional  Contagem  Porcentagem\n",
      "0                                             Animais         1         2.56\n",
      "1                                           Arco-íris         1         2.56\n",
      "2                                               Balão         1         2.56\n",
      "3                                               Barco         1         2.56\n",
      "4                                                Bebê         4        10.26\n",
      "5                                     Bola de futebol         2         5.13\n",
      "6                                          Borboletas         3         7.69\n",
      "7                                              Brinco         2         5.13\n",
      "8                            Carinhas que a filha fez         1         2.56\n",
      "9                                    Cordão umbilical         2         5.13\n",
      "10                                              Coroa         1         2.56\n",
      "11                                                Céu         2         5.13\n",
      "12                                           Estrelas         6        15.38\n",
      "13                                              Flora         1         2.56\n",
      "14                                             Flores         9        23.08\n",
      "15                                             Folhas         1         2.56\n",
      "16                          Frases de amor da família         1         2.56\n",
      "17                                       Fundo do mar         1         2.56\n",
      "18                                  Galhos com folhas         1         2.56\n",
      "19                                            Lacinho         1         2.56\n",
      "20                                               Leão         3         7.69\n",
      "21                                       Mão da filha         2         5.13\n",
      "22                                       Nome do bebê         1         2.56\n",
      "23                                             Nuvens         3         7.69\n",
      "24                                               Ouro         1         2.56\n",
      "25                                           Placenta        13        33.33\n",
      "26                                            Pássaro         1         2.56\n",
      "27                                            Pérolas         1         2.56\n",
      "28                                   Ramo de Oliveira         1         2.56\n",
      "29                                             Savana         1         2.56\n",
      "30                                                Sol         4        10.26\n",
      "31                                              Terço         1         2.56\n",
      "32                                              Tiara         1         2.56\n",
      "33                                    Tiara de flores         1         2.56\n",
      "34                                               Urso         2         5.13\n",
      "35                                             Árvore         2         5.13\n",
      "\n",
      "\n"
     ]
    }
   ],
   "source": [
    "desenhos = contar_multiplas_respostas('Descreva a ilustração presente na arte gestacional', df)\n",
    "\n",
    "desenhos.to_excel('desenhos.xlsx')\n"
   ]
  },
  {
   "cell_type": "code",
   "execution_count": 41,
   "metadata": {},
   "outputs": [
    {
     "name": "stdout",
     "output_type": "stream",
     "text": [
      "  Cores escolhidas para a arte gestacional  Contagem  Porcentagem\n",
      "0                                  Amarelo         9        23.08\n",
      "1                         Azul e seus tons        13        33.33\n",
      "2                                   Branco        10        25.64\n",
      "3                                  Laranja         6        15.38\n",
      "4                                   Marron         1         2.56\n",
      "5                         Rosa e seus tons        10        25.64\n",
      "6               Roxo (violeta) e seus tons         6        15.38\n",
      "7                        Verde e seus tons        13        33.33\n",
      "8                     Vermelho e seus tons         5        12.82\n",
      "\n",
      "\n"
     ]
    }
   ],
   "source": [
    "cores = contar_multiplas_respostas('Cores escolhidas para a arte gestacional', df)\n"
   ]
  },
  {
   "cell_type": "code",
   "execution_count": 42,
   "metadata": {},
   "outputs": [
    {
     "name": "stdout",
     "output_type": "stream",
     "text": [
      "Sexo do bebê da arte        Menina  Menino  Não sabe  Total  \\\n",
      "Cor                                                           \n",
      "Amarelo                          2       6         1      9   \n",
      "Azul e seus tons                 0      13         0     13   \n",
      "Branco                           5       4         1     10   \n",
      "Laranja                          2       3         1      6   \n",
      "Marron                           0       1         0      1   \n",
      "Rosa e seus tons                 9       0         1     10   \n",
      "Roxo (violeta) e seus tons       5       0         1      6   \n",
      "Verde e seus tons                3       9         1     13   \n",
      "Vermelho e seus tons             1       3         1      5   \n",
      "\n",
      "Sexo do bebê da arte        Porcentagem (Meninas)  Porcentagem (Meninos)  \\\n",
      "Cor                                                                        \n",
      "Amarelo                                     13.33                  26.09   \n",
      "Azul e seus tons                             0.00                  56.52   \n",
      "Branco                                      33.33                  17.39   \n",
      "Laranja                                     13.33                  13.04   \n",
      "Marron                                       0.00                   4.35   \n",
      "Rosa e seus tons                            60.00                   0.00   \n",
      "Roxo (violeta) e seus tons                  33.33                   0.00   \n",
      "Verde e seus tons                           20.00                  39.13   \n",
      "Vermelho e seus tons                         6.67                  13.04   \n",
      "\n",
      "Sexo do bebê da arte        Porcentagem (Desconhecido)  \n",
      "Cor                                                     \n",
      "Amarelo                                          100.0  \n",
      "Azul e seus tons                                   0.0  \n",
      "Branco                                           100.0  \n",
      "Laranja                                          100.0  \n",
      "Marron                                             0.0  \n",
      "Rosa e seus tons                                 100.0  \n",
      "Roxo (violeta) e seus tons                       100.0  \n",
      "Verde e seus tons                                100.0  \n",
      "Vermelho e seus tons                             100.0  \n"
     ]
    }
   ],
   "source": [
    "def contar_cores_por_sexo(coluna, df):\n",
    "    # Separar as cores em colunas diferentes\n",
    "    cores_sep = df[coluna].str.split(', ', expand=True)\n",
    "    \n",
    "    # Adicionar a coluna 'Sexo do bebê da arte' para o DataFrame resultante\n",
    "    cores_sep['Sexo do bebê da arte'] = df['Sexo do bebê da arte']\n",
    "    \n",
    "    # Transformar as colunas de cores em uma única coluna e colocar tudo em uma única linha\n",
    "    cores_melted = pd.melt(cores_sep, id_vars=['Sexo do bebê da arte'], value_name='Cor')\n",
    "    \n",
    "    # Remover linhas com valores nulos na coluna 'Cor'\n",
    "    cores_melted.dropna(subset=['Cor'], inplace=True)\n",
    "    \n",
    "    # Contar o número de ocorrências de cada cor para cada sexo\n",
    "    contagem_cores = cores_melted.groupby(['Sexo do bebê da arte', 'Cor']).size().reset_index(name='Contagem')\n",
    "    \n",
    "    # Pivotar a tabela para ter uma única linha para cada cor, com as contagens para cada sexo\n",
    "    contagem_cores_pivot = contagem_cores.pivot(index='Cor', columns='Sexo do bebê da arte', values='Contagem').fillna(0).astype(int)\n",
    "    \n",
    "    # Adicionar a coluna com a soma das contagens para todos os sexos\n",
    "    contagem_cores_pivot['Total'] = contagem_cores_pivot.sum(axis=1)\n",
    "    \n",
    "    # Adicionar a porcentagem de cada sexo em relação ao total\n",
    "    contagem_cores_pivot['Porcentagem (Meninas)'] = (contagem_cores_pivot['Menina'] / 15 * 100).round(2)\n",
    "    contagem_cores_pivot['Porcentagem (Meninos)'] = (contagem_cores_pivot['Menino'] / 23 * 100).round(2)\n",
    "    contagem_cores_pivot['Porcentagem (Desconhecido)'] = (contagem_cores_pivot['Não sabe'] / 1 * 100).round(2)\n",
    "\n",
    "    return contagem_cores_pivot\n",
    "\n",
    "# Exemplo de uso da função para contar as cores escolhidas para a arte gestacional por sexo do bebê\n",
    "cores_por_sexo = contar_cores_por_sexo('Cores escolhidas para a arte gestacional', df)\n",
    "print(cores_por_sexo)\n",
    "cores_por_sexo.to_excel('teste.xlsx')\n"
   ]
  },
  {
   "cell_type": "code",
   "execution_count": 43,
   "metadata": {},
   "outputs": [],
   "source": [
    "cores.to_excel('cores.xlsx')"
   ]
  }
 ],
 "metadata": {
  "kernelspec": {
   "display_name": "Python 3",
   "language": "python",
   "name": "python3"
  },
  "language_info": {
   "codemirror_mode": {
    "name": "ipython",
    "version": 3
   },
   "file_extension": ".py",
   "mimetype": "text/x-python",
   "name": "python",
   "nbconvert_exporter": "python",
   "pygments_lexer": "ipython3",
   "version": "3.10.12"
  }
 },
 "nbformat": 4,
 "nbformat_minor": 2
}
